{
 "cells": [
  {
   "cell_type": "markdown",
   "metadata": {
    "collapsed": true
   },
   "source": [
    "# BeautifulSoup 爬蟲"
   ]
  },
  {
   "cell_type": "code",
   "execution_count": null,
   "metadata": {
    "collapsed": true
   },
   "outputs": [],
   "source": [
    "import requests\n",
    "from bs4 import BeautifulSoup"
   ]
  },
  {
   "cell_type": "code",
   "execution_count": 2,
   "metadata": {
    "collapsed": true
   },
   "outputs": [],
   "source": [
    "url=\"http://www.grandtech.info/\""
   ]
  },
  {
   "cell_type": "code",
   "execution_count": 3,
   "metadata": {},
   "outputs": [
    {
     "name": "stdout",
     "output_type": "stream",
     "text": [
      "網站載入中...\n",
      "...網站載入完成\n"
     ]
    }
   ],
   "source": [
    "import os\n",
    "html = requests.get(url)\n",
    "print(\"網站載入中...\")\n",
    "html.raise_for_status()\n",
    "print(\"...網站載入完成\")\n",
    "\n",
    "destDir = \"上奇圖檔\"\n",
    "if os.path.exists(destDir) == False:\n",
    "    os.mkdir(destDir)"
   ]
  },
  {
   "cell_type": "code",
   "execution_count": 4,
   "metadata": {},
   "outputs": [
    {
     "name": "stdout",
     "output_type": "stream",
     "text": [
      "搜尋到圖片數量： 74\n",
      "http://www.grandtech.info/images/merrychristmas_logo-bg.jpg ...圖片下載完成\n",
      "http://www.grandtech.info/images/btn/btn01-2.jpg ...圖片下載完成\n",
      "http://www.grandtech.info/images/btn/btn02-1.jpg ...圖片下載完成\n",
      "http://www.grandtech.info/images/btn/btn03-1.jpg ...圖片下載完成\n",
      "http://www.grandtech.info/images/btn/btn04-1.jpg ...圖片下載完成\n",
      "http://www.grandtech.info/images/btn/btn05-1.jpg ...圖片下載完成\n",
      "http://www.grandtech.info/images/btn/btn06-1.jpg ...圖片下載完成\n",
      "http://www.grandtech.info/images/btn/btn07-1.jpg ...圖片下載完成\n",
      "http://www.grandtech.info/images/btn/btn08-1.jpg ...圖片下載完成\n",
      "http://www.grandtech.info/images/ad-title.jpg ...圖片下載完成\n",
      "http://www.grandtech.info/images/ad-bookd.jpg ...圖片下載完成\n",
      "http://www.grandtech.info/images/ad-gtinfo.jpg ...圖片下載完成\n",
      "http://www.grandtech.info/images/ad-sse.jpg ...圖片下載完成\n",
      "http://www.grandtech.info/images/ad-talk.jpg ...圖片下載完成\n",
      "http://www.grandtech.info/images/ad-joyce.jpg ...圖片下載完成\n",
      "http://www.grandtech.info/images/ad-gt-times.jpg ...圖片下載完成\n",
      "http://www.grandtech.info/images/ad-topteam.jpg ...圖片下載完成\n",
      "http://www.grandtech.info/images/ad-topwork.jpg ...圖片下載完成\n",
      "http://www.grandtech.info/images/ad-gt.jpg ...圖片下載完成\n",
      "http://www.grandtech.info/images/ad-bookdis.jpg ...圖片下載完成\n",
      "http://www.grandtech.info/images/left_menu-bottom_bg.gif ...圖片下載完成\n",
      "http://www.grandtech.info/images/ad-003.jpg ...圖片下載完成\n",
      "http://www.grandtech.info/images/left_menu-top_bg.gif ...圖片下載完成\n",
      "http://www.grandtech.info/images/left_menu-bottom_bg.gif ...圖片下載完成\n",
      "http://www.grandtech.info/images/ad-001.jpg ...圖片下載完成\n",
      "http://www.grandtech.info/images/ad-002.jpg ...圖片下載完成\n",
      "http://www.grandtech.info/images/counter/counter-left.png ...圖片下載完成\n",
      "http://www.grandtech.info/images/counter/counter-right.png ...圖片下載完成\n",
      "http://www.grandtech.info/upfile/ad/19641678585a251476786c3.jpg ...圖片下載完成\n",
      "http://www.grandtech.info/upfile/ad/20891071905a1bbbb027ae7.jpg ...圖片下載完成\n",
      "http://www.grandtech.info/upfile/ad/20450427485a1bbc588ce51.jpg ...圖片下載完成\n",
      "http://www.grandtech.info/images/home-bg.jpg ...圖片下載完成\n",
      "http://www.grandtech.info/upfile/product/19032161835adef7ba15a6d.jpg ...圖片下載完成\n",
      "http://www.grandtech.info/upfile/product/7413833445adef51a0cb3f.jpg ...圖片下載完成\n",
      "http://www.grandtech.info/upfile/product/4198706635adef3fc4ac99.jpg ...圖片下載完成\n",
      "http://www.grandtech.info/upfile/product/9113871125adef1d3b929b.jpg ...圖片下載完成\n",
      "http://www.grandtech.info/upfile/product/5674168395adef0c866ca1.jpg ...圖片下載完成\n",
      "http://www.grandtech.info/upfile/product/9460856175adeef6066b0b.jpg ...圖片下載完成\n",
      "http://www.grandtech.info/upfile/product/7381572975adeeabe0afbf.jpg ...圖片下載完成\n",
      "http://www.grandtech.info/upfile/product/4765882945adee7e63558d.jpg ...圖片下載完成\n",
      "http://www.grandtech.info/upfile/product/11438736505add8ab5cb5a1.jpg ...圖片下載完成\n",
      "http://www.grandtech.info/upfile/product/16699977465aaa26278912e.jpg ...圖片下載完成\n",
      "http://www.grandtech.info/upfile/product/7027923595aaa25112dffb.jpg ...圖片下載完成\n",
      "http://www.grandtech.info/upfile/product/3283546965aaa242186222.jpg ...圖片下載完成\n",
      "http://www.grandtech.info/upfile/product/9948023085aa8f4835e240.jpg ...圖片下載完成\n",
      "http://www.grandtech.info/upfile/product/21270736235aa8f2b7d5140.jpg ...圖片下載完成\n",
      "http://www.grandtech.info/upfile/product/7112708315ab1fa57c9feb.jpg ...圖片下載完成\n",
      "http://www.grandtech.info/upfile/product/4526978695ab1f91d5dee3.jpg ...圖片下載完成\n",
      "http://www.grandtech.info/upfile/product/15340363465aaf93edb3083.jpg ...圖片下載完成\n",
      "http://www.grandtech.info/upfile/product/15653774365a8c07da2c735.jpg ...圖片下載完成\n",
      "http://www.grandtech.info/upfile/product/7139665435a8c06576769c.jpg ...圖片下載完成\n",
      "http://www.grandtech.info/upfile/product/3954047275a8c012f89569.jpg ...圖片下載完成\n",
      "http://www.grandtech.info/upfile/product/13847696175a8bfd9b82448.jpg ...圖片下載完成\n",
      "http://www.grandtech.info/upfile/product/18547967055a8bfc8007459.jpg ...圖片下載完成\n",
      "http://www.grandtech.info/upfile/product/7015807705a8bfb5c3378a.jpg ...圖片下載完成\n",
      "http://www.grandtech.info/upfile/product/4412076775a8bf5f4791fb.jpg ...圖片下載完成\n",
      "http://www.grandtech.info/upfile/product/6386037895a8bf494bb025.jpg ...圖片下載完成\n",
      "http://www.grandtech.info/upfile/product/14779564565a8bf7b522b6d.jpg ...圖片下載完成\n",
      "http://www.grandtech.info/upfile/product/5118694305a8bf3473d13e.jpg ...圖片下載完成\n",
      "http://www.grandtech.info/upfile/product/20908569115a8bf226ddece.jpg ...圖片下載完成\n",
      "http://www.grandtech.info/upfile/product/7812886025a8bf105c29c1.jpg ...圖片下載完成\n",
      "http://www.grandtech.info/upfile/product/8341984935a66ee38adfda.jpg ...圖片下載完成\n",
      "http://www.grandtech.info/upfile/product/11853365125a66ed52c60e4.jpg ...圖片下載完成\n",
      "http://www.grandtech.info/upfile/product/16591774885a66eb458f33c.jpg ...圖片下載完成\n",
      "http://www.grandtech.info/upfile/product/16045541345a66e7b0c6f83.jpg ...圖片下載完成\n",
      "http://www.grandtech.info/upfile/product/12005799505a66e16b115ec.jpg ...圖片下載完成\n",
      "http://www.grandtech.info/upfile/product/20329972315a5712c0015f3.jpg ...圖片下載完成\n",
      "http://www.grandtech.info/upfile/product/10951321455a5db88e9ee45.jpg ...圖片下載完成\n",
      "http://www.grandtech.info/upfile/product/18614956965a5db10c600fa.jpg ...圖片下載完成\n",
      "http://www.grandtech.info/upfile/product/12707850645a5dacbf68704.jpg ...圖片下載完成\n",
      "http://www.grandtech.info/upfile/product/9104012605a5daac14d988.jpg ...圖片下載完成\n",
      "http://www.grandtech.info/upfile/product/7632940095a5da65cf0122.jpg ...圖片下載完成\n",
      "http://www.grandtech.info/images/new_release-bottom.gif ...圖片下載完成\n",
      "http://www.grandtech.info/images/bottom_logo.gif ...圖片下載完成\n"
     ]
    }
   ],
   "source": [
    "soup = BeautifulSoup(html.text,\"lxml\")\n",
    "img_Tag = soup.select(\"img\")                       #搜尋有含 \"img\"的標籤(tag)\n",
    "print(\"搜尋到圖片數量：\",len(img_Tag))\n",
    "if len(img_Tag) > 0 :\n",
    "    for i in range(len(img_Tag)):\n",
    "        img_url = img_Tag[i].get(\"src\")            #取得圖檔所在路徑\n",
    "        find_url = url + img_url                   #取得圖片在網路上的網址\n",
    "        picture_download = requests.get(find_url)  #下載圖片\n",
    "        picture_download.raise_for_status()\n",
    "        print(\"%s ...圖片下載完成\" % find_url)\n",
    "        #先開啟檔案，再儲存圖片\n",
    "        picture_file = open(os.path.join(destDir,os.path.basename(img_url)),\"wb\")\n",
    "        for diskStorage in picture_download.iter_content(20480):\n",
    "            picture_file.write(diskStorage)\n",
    "        picture_file.close()"
   ]
  },
  {
   "cell_type": "code",
   "execution_count": 11,
   "metadata": {},
   "outputs": [
    {
     "data": {
      "text/plain": [
       "str"
      ]
     },
     "execution_count": 11,
     "metadata": {},
     "output_type": "execute_result"
    }
   ],
   "source": [
    "type(img_url)"
   ]
  },
  {
   "cell_type": "code",
   "execution_count": 6,
   "metadata": {
    "collapsed": true
   },
   "outputs": [],
   "source": [
    "#Example.2"
   ]
  },
  {
   "cell_type": "code",
   "execution_count": 7,
   "metadata": {
    "collapsed": true
   },
   "outputs": [],
   "source": [
    "from bs4 import BeautifulSoup\n",
    "import os,requests"
   ]
  },
  {
   "cell_type": "code",
   "execution_count": 14,
   "metadata": {
    "collapsed": true
   },
   "outputs": [],
   "source": [
    "#偽裝伺服器\n",
    "headers = {'User-Agent':\"Mozilla/5.0 (Windows NT 10.0; WOW64) AppleebKit/537.36 (KHTML, like Gecko) Chrome/51.0.2704.63 Safari/537.36\",}\n",
    "url = \"http://aaa.24ht.com.tw/\"\n",
    "res = requests.get(url,headers=headers)\n",
    "pyDir = \"王者天下\"\n",
    "if os.path.exists(pyDir) == False :\n",
    "    os.mkdir(pyDir)\n",
    "Soup = BeautifulSoup(res.text,\"lxml\")\n",
    "img_tag = soup.select(\"img\")\n",
    "if len(img_Tag) > 0:\n",
    "    for i in range(len(img_Tag)):\n",
    "        img_Url = img_Tag[i].get(\"src\")\n",
    "        merg_Url = url + img_Url\n",
    "        pic = requests.get(merg_Url,headers = headers)\n",
    "        \n",
    "        picfile = open(os.path.join(pyDir,os.path.basename(img_Url)),\"wb\")\n",
    "        for storage in pic.iter_content(10240):\n",
    "            picfile.write(storage)\n",
    "        picfile.close()"
   ]
  },
  {
   "cell_type": "code",
   "execution_count": null,
   "metadata": {
    "collapsed": true
   },
   "outputs": [],
   "source": []
  }
 ],
 "metadata": {
  "kernelspec": {
   "display_name": "Python 3",
   "language": "python",
   "name": "python3"
  },
  "language_info": {
   "codemirror_mode": {
    "name": "ipython",
    "version": 3
   },
   "file_extension": ".py",
   "mimetype": "text/x-python",
   "name": "python",
   "nbconvert_exporter": "python",
   "pygments_lexer": "ipython3",
   "version": "3.7.3"
  },
  "latex_envs": {
   "LaTeX_envs_menu_present": true,
   "autoclose": false,
   "autocomplete": true,
   "bibliofile": "biblio.bib",
   "cite_by": "apalike",
   "current_citInitial": 1,
   "eqLabelWithNumbers": true,
   "eqNumInitial": 1,
   "hotkeys": {
    "equation": "Ctrl-E",
    "itemize": "Ctrl-I"
   },
   "labels_anchors": false,
   "latex_user_defs": false,
   "report_style_numbering": false,
   "user_envs_cfg": false
  },
  "varInspector": {
   "cols": {
    "lenName": 16,
    "lenType": 16,
    "lenVar": 40
   },
   "kernels_config": {
    "python": {
     "delete_cmd_postfix": "",
     "delete_cmd_prefix": "del ",
     "library": "var_list.py",
     "varRefreshCmd": "print(var_dic_list())"
    },
    "r": {
     "delete_cmd_postfix": ") ",
     "delete_cmd_prefix": "rm(",
     "library": "var_list.r",
     "varRefreshCmd": "cat(var_dic_list()) "
    }
   },
   "types_to_exclude": [
    "module",
    "function",
    "builtin_function_or_method",
    "instance",
    "_Feature"
   ],
   "window_display": false
  }
 },
 "nbformat": 4,
 "nbformat_minor": 2
}
