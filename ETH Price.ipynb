{
 "cells": [
  {
   "cell_type": "code",
   "execution_count": 1,
   "metadata": {},
   "outputs": [],
   "source": [
    "import pandas\n",
    "import time\n",
    "headers = {'User-Agent':\"Mozilla/5.0 (Windows NT 10.0; WOW64) AppleebKit/537.36 (KHTML, like Gecko) Chrome/51.0.2704.63 Safari/537.36\",}\n",
    "price = pandas.read_html(\"https://coinmarketcap.com/\")"
   ]
  },
  {
   "cell_type": "code",
   "execution_count": 3,
   "metadata": {},
   "outputs": [
    {
     "name": "stdout",
     "output_type": "stream",
     "text": [
      "Sun Aug 19 12:11:37 2018\n",
      "趕快買入！\n"
     ]
    },
    {
     "name": "stderr",
     "output_type": "stream",
     "text": [
      "/anaconda3/lib/python3.6/site-packages/ipykernel_launcher.py:5: DeprecationWarning: \n",
      ".ix is deprecated. Please use\n",
      ".loc for label based indexing or\n",
      ".iloc for positional indexing\n",
      "\n",
      "See the documentation here:\n",
      "http://pandas.pydata.org/pandas-docs/stable/indexing.html#ix-indexer-is-deprecated\n",
      "  \"\"\"\n",
      "/anaconda3/lib/python3.6/site-packages/ipykernel_launcher.py:6: DeprecationWarning: \n",
      ".ix is deprecated. Please use\n",
      ".loc for label based indexing or\n",
      ".iloc for positional indexing\n",
      "\n",
      "See the documentation here:\n",
      "http://pandas.pydata.org/pandas-docs/stable/indexing.html#ix-indexer-is-deprecated\n",
      "  \n"
     ]
    },
    {
     "name": "stdout",
     "output_type": "stream",
     "text": [
      "Sun Aug 19 12:12:07 2018\n",
      "趕快買入！\n",
      "Sun Aug 19 12:12:38 2018\n",
      "趕快買入！\n",
      "Sun Aug 19 12:13:09 2018\n",
      "趕快買入！\n",
      "Sun Aug 19 12:13:39 2018\n",
      "趕快買入！\n",
      "Sun Aug 19 12:14:10 2018\n",
      "趕快買入！\n",
      "Sun Aug 19 12:14:41 2018\n",
      "趕快買入！\n",
      "Sun Aug 19 12:15:11 2018\n",
      "趕快買入！\n",
      "Sun Aug 19 12:15:42 2018\n",
      "趕快買入！\n"
     ]
    }
   ],
   "source": [
    "for i in range(1,10):\n",
    "    price = pandas.read_html(\"https://coinmarketcap.com/\")\n",
    "    time.sleep(5)\n",
    "    print(time.asctime(time.localtime()))\n",
    "    currency = price[0].ix[:9,(0,1,3,6)]\n",
    "    eth = float(currency.ix[1,\"Price\"][1:7])\n",
    "    if eth <= 315 :\n",
    "        print(\"趕快買入！\")\n",
    "    else:\n",
    "        print(\"目前以太價格為:{}\".format(currency.ix[1,\"Price\"]))\n",
    "    time.sleep(25)"
   ]
  },
  {
   "cell_type": "code",
   "execution_count": null,
   "metadata": {},
   "outputs": [],
   "source": [
    "from urllib import request\n",
    "import pandas\n",
    "import time\n",
    "\n",
    "html_url = \"https://coinmarketcap.com/\"\n",
    "#伪装构造头\n",
    "header ={\n",
    "    \"Connection\": \"keep-alive\",\n",
    "    \"Upgrade-Insecure-Requests\": \"1\",\n",
    "    \"User-Agent\": \"Mozilla/5.0 (Windows NT 10.0; Win64; x64) AppleWebKit/537.36 (KHTML, like Gecko) Chrome/60.0.3112.113 Safari/537.36\",\n",
    "    \"Accept\":\" text/html,application/xhtml+xml,application/xml;q=0.9,image/webp,image/apng,*/*;q=0.8\",\n",
    "    \"Accept-Encoding\": \"gzip,deflate\",\n",
    "    \"Accept-Language\": \"zh-CN,zh;q=0.8\"\n",
    "}\n",
    "req = request.Request(url=html_url, headers=header)\n",
    "resp = request.urlopen(req)"
   ]
  },
  {
   "cell_type": "code",
   "execution_count": null,
   "metadata": {},
   "outputs": [],
   "source": []
  }
 ],
 "metadata": {
  "kernelspec": {
   "display_name": "Python 3",
   "language": "python",
   "name": "python3"
  },
  "language_info": {
   "codemirror_mode": {
    "name": "ipython",
    "version": 3
   },
   "file_extension": ".py",
   "mimetype": "text/x-python",
   "name": "python",
   "nbconvert_exporter": "python",
   "pygments_lexer": "ipython3",
   "version": "3.6.5"
  }
 },
 "nbformat": 4,
 "nbformat_minor": 2
}
