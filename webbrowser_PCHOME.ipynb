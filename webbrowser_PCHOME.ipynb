{
 "cells": [
  {
   "cell_type": "code",
   "execution_count": null,
   "metadata": {},
   "outputs": [],
   "source": [
    "import webbrowser\n",
    "webbrowser.open(\"http://www.google.com.tw/maps/place/\")"
   ]
  },
  {
   "cell_type": "code",
   "execution_count": null,
   "metadata": {},
   "outputs": [],
   "source": [
    "Address = input(\"請輸入你家地址：\")\n",
    "webbrowser.open(\"http://www.google.com.tw/maps/place/\"+ Address)"
   ]
  },
  {
   "cell_type": "code",
   "execution_count": 2,
   "metadata": {},
   "outputs": [
    {
     "name": "stdout",
     "output_type": "stream",
     "text": [
      "$ 取得網頁內容成功 $\n",
      "請輸入搜尋的內容 : iphone\n",
      "搜尋 iphone 失敗\n",
      "iphone 出現 0 次\n",
      "網頁內容大小 : 11011\n"
     ]
    }
   ],
   "source": [
    "import requests\n",
    "import re\n",
    "#偽裝成瀏覽器\n",
    "headers = {'User-Agent':\"Mozilla/5.0 (Windows NT 10.0; WOW64) AppleWebKit/537.36 (KHTML, like Gecko) Chrome/51.0.2704.63 Safari/537.36\",}  \n",
    "url = \"https://ecshweb.pchome.com.tw/\"\n",
    "html = requests.get(url,headers=headers)\n",
    "if html.status_code == requests.codes.ok:\n",
    "    print(\"$ 取得網頁內容成功 $\")\n",
    "    pattern = input(\"請輸入搜尋的內容 : \")  #搜尋功能\n",
    "    if pattern in html.text:\n",
    "        print(\"搜尋 %s 成功\" % pattern)\n",
    "    else:\n",
    "        print(\"搜尋 %s 失敗\" % pattern)\n",
    "    name = re.findall(pattern,html.text)  #搜尋內容出現次數\n",
    "    \n",
    "    if name != None:\n",
    "        print(\"%s 出現 %d 次\" % (pattern,len(name)))  \n",
    "    else:\n",
    "        print(\"%s 出現 0 次\" % pattern)\n",
    "else:\n",
    "    print(\"* 取得網頁內容失敗 *\")\n",
    "print(\"網頁內容大小 :\",len(html.text),sep = \" \")"
   ]
  },
  {
   "cell_type": "code",
   "execution_count": 3,
   "metadata": {},
   "outputs": [
    {
     "name": "stdout",
     "output_type": "stream",
     "text": [
      "取得連結成功\n",
      "10240\n",
      "771\n",
      "以 PChome.txt 爬蟲檔儲存成功\n"
     ]
    }
   ],
   "source": [
    "import requests\n",
    "url = \"https://ecshweb.pchome.com.tw/search/v3.3/?q=macbook%20pro&scope=all\"\n",
    "try:\n",
    "    htmlfile = requests.get(url)\n",
    "    print(\"取得連結成功\")\n",
    "except Exception as error:\n",
    "    print(\"取得連結失敗:%s \" % err)\n",
    "#儲存網頁內容\n",
    "fn = \"PChome.txt\"\n",
    "with open(fn,\"wb\") as file_Obj:\n",
    "    for diskStorage in htmlfile.iter_content(10240):\n",
    "        size = file_Obj.write(diskStorage)\n",
    "        print(size)\n",
    "    print(\"以 %s 爬蟲檔儲存成功\" %fn)"
   ]
  },
  {
   "cell_type": "code",
   "execution_count": null,
   "metadata": {
    "collapsed": true
   },
   "outputs": [],
   "source": []
  }
 ],
 "metadata": {
  "kernelspec": {
   "display_name": "Python 3",
   "language": "python",
   "name": "python3"
  },
  "language_info": {
   "codemirror_mode": {
    "name": "ipython",
    "version": 3
   },
   "file_extension": ".py",
   "mimetype": "text/x-python",
   "name": "python",
   "nbconvert_exporter": "python",
   "pygments_lexer": "ipython3",
   "version": "3.7.3"
  },
  "varInspector": {
   "cols": {
    "lenName": 16,
    "lenType": 16,
    "lenVar": 40
   },
   "kernels_config": {
    "python": {
     "delete_cmd_postfix": "",
     "delete_cmd_prefix": "del ",
     "library": "var_list.py",
     "varRefreshCmd": "print(var_dic_list())"
    },
    "r": {
     "delete_cmd_postfix": ") ",
     "delete_cmd_prefix": "rm(",
     "library": "var_list.r",
     "varRefreshCmd": "cat(var_dic_list()) "
    }
   },
   "types_to_exclude": [
    "module",
    "function",
    "builtin_function_or_method",
    "instance",
    "_Feature"
   ],
   "window_display": false
  }
 },
 "nbformat": 4,
 "nbformat_minor": 2
}
